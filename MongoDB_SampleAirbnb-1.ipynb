{
 "cells": [
  {
   "cell_type": "markdown",
   "id": "2f50ab6c",
   "metadata": {},
   "source": [
    "# MongoDB and Sample Airbnb Data\n",
    "\n"
   ]
  },
  {
   "cell_type": "code",
   "execution_count": 14,
   "id": "a8c244e6",
   "metadata": {},
   "outputs": [],
   "source": [
    "# write the JSON data to a local host\n",
    "\n",
    "from pymongo import MongoClient\n",
    "import json\n",
    "\n",
    "client = MongoClient('localhost',27017)\n",
    "\n",
    "# create a new database and collection\n",
    "db = client['sample_airbnb']\n",
    "collection = db['listingsAndReviews']\n",
    "\n",
    "# write the data to the new collection\n",
    "jfile = open('sample_airbnb.json')\n",
    "data = json.load(jfile)\n",
    "\n",
    "\n",
    "for obs in data:\n",
    "    collection.insert_one(obs)"
   ]
  },
  {
   "cell_type": "code",
   "execution_count": null,
   "id": "2ace6646",
   "metadata": {},
   "outputs": [],
   "source": []
  }
 ],
 "metadata": {
  "kernelspec": {
   "display_name": "Python 3 (ipykernel)",
   "language": "python",
   "name": "python3"
  },
  "language_info": {
   "codemirror_mode": {
    "name": "ipython",
    "version": 3
   },
   "file_extension": ".py",
   "mimetype": "text/x-python",
   "name": "python",
   "nbconvert_exporter": "python",
   "pygments_lexer": "ipython3",
   "version": "3.11.4"
  }
 },
 "nbformat": 4,
 "nbformat_minor": 5
}
